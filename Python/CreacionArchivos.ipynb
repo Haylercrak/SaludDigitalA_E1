{
 "cells": [
  {
   "cell_type": "markdown",
   "id": "107b88cb",
   "metadata": {},
   "source": [
    "# Fase 1 – Creación de Archivos\n",
    "Crear carpetas data, database, reports, ci, git y scripts y estructura base del proyecto usando os y pathlib en tiempo de ejecución\n"
   ]
  },
  {
   "cell_type": "code",
   "execution_count": 1,
   "id": "26cbbac8",
   "metadata": {},
   "outputs": [
    {
     "name": "stdout",
     "output_type": "stream",
     "text": [
      "Estructura creada correctamente ✅\n"
     ]
    }
   ],
   "source": [
    "from pathlib import Path\n",
    "\n",
    "# Crear estructura base\n",
    "base_path = Path(\"SaludDigitalB_E1\")\n",
    "\n",
    "folders = [\n",
    "    \"data\", \"database\", \"reports\", \"ci\", \"git\", \"scripts\"\n",
    "]\n",
    "\n",
    "for folder in folders:\n",
    "    (base_path / folder).mkdir(parents=True, exist_ok=True)\n",
    "\n",
    "print(\"Estructura creada correctamente ✅\")\n"
   ]
  },
  {
   "cell_type": "markdown",
   "id": "8977e610",
   "metadata": {},
   "source": [
    "# Fase 2 – Definición de Esquema\n",
    "Generar un archivo base CSV (base.csv) con la estructura indicada.\n"
   ]
  },
  {
   "cell_type": "code",
   "execution_count": 2,
   "id": "3f2cb9f6",
   "metadata": {},
   "outputs": [
    {
     "name": "stdout",
     "output_type": "stream",
     "text": [
      "Archivo base.csv creado correctamente ✅\n"
     ]
    }
   ],
   "source": [
    "import pandas as pd\n",
    "\n",
    "columnas = [\n",
    "    \"id_paciente\", \"nombre\", \"edad\", \"sexo\",\n",
    "    \"distrito\", \"servicio\", \"fecha_atencion\", \"monto\"\n",
    "]\n",
    "\n",
    "df_base = pd.DataFrame(columns=columnas)\n",
    "df_base.to_csv(\"SaludDigitalB_E1/data/base.csv\", index=False)\n",
    "\n",
    "print(\"Archivo base.csv creado correctamente ✅\")\n"
   ]
  },
  {
   "cell_type": "markdown",
   "id": "474cfcc6",
   "metadata": {},
   "source": [
    "# Fase 3 – Generación de Datos Aleatorios\n",
    "Generar un archivo CSV (pacientes.csv) con 3000 registros simulados, que incluya campos nulos, NA, entre otros\n"
   ]
  },
  {
   "cell_type": "code",
   "execution_count": 7,
   "id": "10eecf90",
   "metadata": {},
   "outputs": [
    {
     "name": "stdout",
     "output_type": "stream",
     "text": [
      "Archivo pacientes.csv generado correctamente ✅\n"
     ]
    }
   ],
   "source": [
    "# ...existing code...\n",
    "import pandas as pd\n",
    "import numpy as np\n",
    "import random\n",
    "from faker import Faker\n",
    "\n",
    "fake = Faker('es_ES')\n",
    "servicios = [\"Odontología\", \"Pediatría\", \"Medicina General\", \"Cardiología\", \"Dermatología\"]\n",
    "distritos = [\"Miraflores\", \"Surco\", \"San Isidro\", \"La Molina\", \"Barranco\"]\n",
    "\n",
    "data = []\n",
    "for i in range(3000):\n",
    "    data.append([\n",
    "        f\"P{i+1:04d}\",\n",
    "        fake.name(),\n",
    "        np.random.randint(1, 90),\n",
    "        random.choice([\"M\", \"F\"]),\n",
    "        random.choice(distritos),\n",
    "        random.choice(servicios),\n",
    "        fake.date_between(start_date=\"-2y\", end_date=\"today\"),\n",
    "        round(np.random.uniform(50, 500), 2)\n",
    "    ])\n",
    "\n",
    "df = pd.DataFrame(data, columns=[\n",
    "    \"id_paciente\", \"nombre\", \"edad\", \"sexo\",\n",
    "    \"distrito\", \"servicio\", \"fecha_atencion\", \"monto\"\n",
    "])\n",
    "\n",
    "# Introducir valores nulos aleatorios\n",
    "for col in [\"sexo\", \"distrito\"]:\n",
    "    df.loc[df.sample(frac=0.02, random_state=1).index, col] = np.nan\n",
    "\n",
    "df.to_csv(\"SaludDigitalB_E1/data/pacientes.csv\", index=False)\n",
    "print(\"Archivo pacientes.csv generado correctamente ✅\")\n"
   ]
  },
  {
   "cell_type": "markdown",
   "id": "c7b235c0",
   "metadata": {},
   "source": [
    "# Fase 4 – ETL (Limpieza de Datos)\n",
    "•\tEliminar duplicados\n",
    "•\tRellenar valores nulos en campos de transporte o destino\n",
    "•\tFormatear fechas\n",
    "•\tValidar tipos de datos\n",
    "Guardar como pacientes_clean.csv.\n"
   ]
  },
  {
   "cell_type": "code",
   "execution_count": 8,
   "id": "9a88fed2",
   "metadata": {},
   "outputs": [
    {
     "name": "stdout",
     "output_type": "stream",
     "text": [
      "Datos limpios y guardados correctamente ✅\n"
     ]
    },
    {
     "name": "stderr",
     "output_type": "stream",
     "text": [
      "C:\\Users\\Hayler Perez\\AppData\\Local\\Temp\\ipykernel_24276\\1760083827.py:6: FutureWarning: A value is trying to be set on a copy of a DataFrame or Series through chained assignment using an inplace method.\n",
      "The behavior will change in pandas 3.0. This inplace method will never work because the intermediate object on which we are setting values always behaves as a copy.\n",
      "\n",
      "For example, when doing 'df[col].method(value, inplace=True)', try using 'df.method({col: value}, inplace=True)' or df[col] = df[col].method(value) instead, to perform the operation inplace on the original object.\n",
      "\n",
      "\n",
      "  df[\"sexo\"].fillna(\"No especifica\", inplace=True)\n",
      "C:\\Users\\Hayler Perez\\AppData\\Local\\Temp\\ipykernel_24276\\1760083827.py:7: FutureWarning: A value is trying to be set on a copy of a DataFrame or Series through chained assignment using an inplace method.\n",
      "The behavior will change in pandas 3.0. This inplace method will never work because the intermediate object on which we are setting values always behaves as a copy.\n",
      "\n",
      "For example, when doing 'df[col].method(value, inplace=True)', try using 'df.method({col: value}, inplace=True)' or df[col] = df[col].method(value) instead, to perform the operation inplace on the original object.\n",
      "\n",
      "\n",
      "  df[\"distrito\"].fillna(\"Sin distrito\", inplace=True)\n"
     ]
    }
   ],
   "source": [
    "# Extracción\n",
    "df = pd.read_csv(\"SaludDigitalB_E1/data/pacientes.csv\")\n",
    "\n",
    "# Transformación\n",
    "df.drop_duplicates(inplace=True)\n",
    "df[\"sexo\"].fillna(\"No especifica\", inplace=True)\n",
    "df[\"distrito\"].fillna(\"Sin distrito\", inplace=True)\n",
    "df[\"fecha_atencion\"] = pd.to_datetime(df[\"fecha_atencion\"], errors=\"coerce\")\n",
    "df[\"edad\"] = df[\"edad\"].astype(int)\n",
    "\n",
    "# Carga\n",
    "df.to_csv(\"SaludDigitalB_E1/database/pacientes_clean.csv\", index=False)\n",
    "print(\"Datos limpios y guardados correctamente ✅\")\n"
   ]
  },
  {
   "cell_type": "markdown",
   "id": "a87e5f46",
   "metadata": {},
   "source": [
    "# Fase 5 – Carga en MongoDB\n",
    "Crear base de datos SaludDigital_2025 y colección pacientes\n",
    "Insertar los registros limpios desde CSV.\n"
   ]
  },
  {
   "cell_type": "code",
   "execution_count": 9,
   "id": "7afcc361",
   "metadata": {},
   "outputs": [
    {
     "name": "stdout",
     "output_type": "stream",
     "text": [
      "Datos cargados en MongoDB correctamente ✅\n"
     ]
    }
   ],
   "source": [
    "from pymongo import MongoClient\n",
    "import pandas as pd\n",
    "\n",
    "# Conexión\n",
    "client = MongoClient(\"mongodb://localhost:27017/\")\n",
    "db = client[\"SaludDigital_2025\"]\n",
    "collection = db[\"pacientes\"]\n",
    "\n",
    "# Cargar datos limpios\n",
    "df = pd.read_csv(\"SaludDigitalB_E1/database/pacientes_clean.csv\")\n",
    "collection.insert_many(df.to_dict(\"records\"))\n",
    "\n",
    "print(\"Datos cargados en MongoDB correctamente ✅\")\n"
   ]
  },
  {
   "cell_type": "markdown",
   "id": "f0f1509f",
   "metadata": {},
   "source": [
    "# Fase 6 – Visualización de Datos\n",
    "Usar matplotlib y pandas para mostrar:\n",
    "1.\tGráfico de barras: número de pacientes atendidos por servicio.\n",
    "2.\tGráfico circular: distribución por sexo.\n",
    "3.\tHistograma: distribución de edades.\n"
   ]
  },
  {
   "cell_type": "code",
   "execution_count": 10,
   "id": "998cfd90",
   "metadata": {},
   "outputs": [
    {
     "name": "stdout",
     "output_type": "stream",
     "text": [
      "Reportes generados correctamente ✅\n"
     ]
    }
   ],
   "source": [
    "import pandas as pd\n",
    "import matplotlib.pyplot as plt\n",
    "\n",
    "df = pd.read_csv(\"SaludDigitalB_E1/database/pacientes_clean.csv\")\n",
    "\n",
    "# Gráfico de barras\n",
    "df[\"servicio\"].value_counts().plot(kind=\"bar\")\n",
    "plt.title(\"Pacientes atendidos por servicio\")\n",
    "plt.savefig(\"SaludDigitalB_E1/reports/pacientes_atendidos_por_servicio.png\")\n",
    "plt.close()\n",
    "\n",
    "# Gráfico circular\n",
    "df[\"sexo\"].value_counts().plot(kind=\"pie\", autopct='%1.1f%%')\n",
    "plt.title(\"Distribución por sexo\")\n",
    "plt.savefig(\"SaludDigitalB_E1/reports/distribucion_por_sexo.png\")\n",
    "plt.close()\n",
    "\n",
    "# Histograma\n",
    "df[\"edad\"].plot(kind=\"hist\", bins=10)\n",
    "plt.title(\"Distribución de edades\")\n",
    "plt.savefig(\"SaludDigitalB_E1/reports/distribucion_de_edades.png\")\n",
    "plt.close()\n",
    "\n",
    "# Promedio de montos por distrito\n",
    "promedio = df.groupby(\"distrito\")[\"monto\"].mean().reset_index()\n",
    "promedio.to_csv(\"SaludDigitalB_E1/reports/promedio_de_montos_por_distrito.csv\", index=False)\n",
    "print(\"Reportes generados correctamente ✅\")\n"
   ]
  }
 ],
 "metadata": {
  "kernelspec": {
   "display_name": "myenv (3.13.5)",
   "language": "python",
   "name": "python3"
  },
  "language_info": {
   "codemirror_mode": {
    "name": "ipython",
    "version": 3
   },
   "file_extension": ".py",
   "mimetype": "text/x-python",
   "name": "python",
   "nbconvert_exporter": "python",
   "pygments_lexer": "ipython3",
   "version": "3.13.5"
  }
 },
 "nbformat": 4,
 "nbformat_minor": 5
}
