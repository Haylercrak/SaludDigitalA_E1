{
 "cells": [
  {
   "cell_type": "markdown",
   "id": "107b88cb",
   "metadata": {},
   "source": [
    "# Fase 1 – Creación de Archivos\n",
    "Crear carpetas data, database, reports, ci, git y scripts y estructura base del proyecto usando os y pathlib en tiempo de ejecución\n"
   ]
  },
  {
   "cell_type": "code",
   "execution_count": 1,
   "id": "26cbbac8",
   "metadata": {},
   "outputs": [
    {
     "name": "stdout",
     "output_type": "stream",
     "text": [
      "Estructura creada correctamente ✅\n"
     ]
    }
   ],
   "source": [
    "from pathlib import Path\n",
    "\n",
    "# Crear estructura base\n",
    "base_path = Path(\"SaludDigitalB_E1\")\n",
    "\n",
    "folders = [\n",
    "    \"data\", \"database\", \"reports\", \"ci\", \"git\", \"scripts\"\n",
    "]\n",
    "\n",
    "for folder in folders:\n",
    "    (base_path / folder).mkdir(parents=True, exist_ok=True)\n",
    "\n",
    "print(\"Estructura creada correctamente ✅\")\n"
   ]
  },
  {
   "cell_type": "markdown",
   "id": "8977e610",
   "metadata": {},
   "source": [
    "# Fase 2 – Definición de Esquema\n",
    "Generar un archivo base CSV (base.csv) con la estructura indicada.\n"
   ]
  },
  {
   "cell_type": "code",
   "execution_count": 2,
   "id": "3f2cb9f6",
   "metadata": {},
   "outputs": [
    {
     "name": "stdout",
     "output_type": "stream",
     "text": [
      "Archivo base.csv creado correctamente ✅\n"
     ]
    }
   ],
   "source": [
    "import pandas as pd\n",
    "\n",
    "columnas = [\n",
    "    \"id_paciente\", \"nombre\", \"edad\", \"sexo\",\n",
    "    \"distrito\", \"servicio\", \"fecha_atencion\", \"monto\"\n",
    "]\n",
    "\n",
    "df_base = pd.DataFrame(columns=columnas)\n",
    "df_base.to_csv(\"SaludDigitalB_E1/data/base.csv\", index=False)\n",
    "\n",
    "print(\"Archivo base.csv creado correctamente ✅\")\n"
   ]
  },
  {
   "cell_type": "markdown",
   "id": "474cfcc6",
   "metadata": {},
   "source": [
    "# Fase 3 – Generación de Datos Aleatorios\n",
    "Generar un archivo CSV (pacientes.csv) con 3000 registros simulados, que incluya campos nulos, NA, entre otros\n"
   ]
  },
  {
   "cell_type": "code",
   "execution_count": 7,
   "id": "10eecf90",
   "metadata": {},
   "outputs": [
    {
     "name": "stdout",
     "output_type": "stream",
     "text": [
      "Archivo pacientes.csv generado correctamente ✅\n"
     ]
    }
   ],
   "source": [
    "# ...existing code...\n",
    "import pandas as pd\n",
    "import numpy as np\n",
    "import random\n",
    "from faker import Faker\n",
    "\n",
    "fake = Faker('es_ES')\n",
    "servicios = [\"Odontología\", \"Pediatría\", \"Medicina General\", \"Cardiología\", \"Dermatología\"]\n",
    "distritos = [\"Miraflores\", \"Surco\", \"San Isidro\", \"La Molina\", \"Barranco\"]\n",
    "\n",
    "data = []\n",
    "for i in range(3000):\n",
    "    data.append([\n",
    "        f\"P{i+1:04d}\",\n",
    "        fake.name(),\n",
    "        np.random.randint(1, 90),\n",
    "        random.choice([\"M\", \"F\"]),\n",
    "        random.choice(distritos),\n",
    "        random.choice(servicios),\n",
    "        fake.date_between(start_date=\"-2y\", end_date=\"today\"),\n",
    "        round(np.random.uniform(50, 500), 2)\n",
    "    ])\n",
    "\n",
    "df = pd.DataFrame(data, columns=[\n",
    "    \"id_paciente\", \"nombre\", \"edad\", \"sexo\",\n",
    "    \"distrito\", \"servicio\", \"fecha_atencion\", \"monto\"\n",
    "])\n",
    "\n",
    "# Introducir valores nulos aleatorios\n",
    "for col in [\"sexo\", \"distrito\"]:\n",
    "    df.loc[df.sample(frac=0.02, random_state=1).index, col] = np.nan\n",
    "\n",
    "df.to_csv(\"SaludDigitalB_E1/data/pacientes.csv\", index=False)\n",
    "print(\"Archivo pacientes.csv generado correctamente ✅\")\n"
   ]
  }
 ],
 "metadata": {
  "kernelspec": {
   "display_name": "myenv (3.13.5)",
   "language": "python",
   "name": "python3"
  },
  "language_info": {
   "codemirror_mode": {
    "name": "ipython",
    "version": 3
   },
   "file_extension": ".py",
   "mimetype": "text/x-python",
   "name": "python",
   "nbconvert_exporter": "python",
   "pygments_lexer": "ipython3",
   "version": "3.13.5"
  }
 },
 "nbformat": 4,
 "nbformat_minor": 5
}
