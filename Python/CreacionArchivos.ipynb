{
 "cells": [
  {
   "cell_type": "markdown",
   "id": "107b88cb",
   "metadata": {},
   "source": [
    "# Fase 1 – Creación de Archivos\n",
    "Crear carpetas data, database, reports, ci, git y scripts y estructura base del proyecto usando os y pathlib en tiempo de ejecución\n"
   ]
  },
  {
   "cell_type": "code",
   "execution_count": 1,
   "id": "26cbbac8",
   "metadata": {},
   "outputs": [
    {
     "name": "stdout",
     "output_type": "stream",
     "text": [
      "Estructura creada correctamente ✅\n"
     ]
    }
   ],
   "source": [
    "from pathlib import Path\n",
    "\n",
    "# Crear estructura base\n",
    "base_path = Path(\"SaludDigitalB_E1\")\n",
    "\n",
    "folders = [\n",
    "    \"data\", \"database\", \"reports\", \"ci\", \"git\", \"scripts\"\n",
    "]\n",
    "\n",
    "for folder in folders:\n",
    "    (base_path / folder).mkdir(parents=True, exist_ok=True)\n",
    "\n",
    "print(\"Estructura creada correctamente ✅\")\n"
   ]
  }
 ],
 "metadata": {
  "kernelspec": {
   "display_name": "myenv (3.13.5)",
   "language": "python",
   "name": "python3"
  },
  "language_info": {
   "codemirror_mode": {
    "name": "ipython",
    "version": 3
   },
   "file_extension": ".py",
   "mimetype": "text/x-python",
   "name": "python",
   "nbconvert_exporter": "python",
   "pygments_lexer": "ipython3",
   "version": "3.13.5"
  }
 },
 "nbformat": 4,
 "nbformat_minor": 5
}
