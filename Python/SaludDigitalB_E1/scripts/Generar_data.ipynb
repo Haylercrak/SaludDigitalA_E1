{
 "cells": [
  {
   "cell_type": "markdown",
   "id": "367bc007",
   "metadata": {},
   "source": [
    "# FASE 3 – Generación de Datos Aleatorios (pacientes.csv)"
   ]
  },
  {
   "cell_type": "code",
   "execution_count": null,
   "id": "0019e23d",
   "metadata": {},
   "outputs": [],
   "source": [
    "import pandas as pd\n",
    "import numpy as np\n",
    "import random\n",
    "from faker import Faker\n",
    "\n",
    "fake = Faker('es_ES')\n",
    "servicios = [\"Odontología\", \"Pediatría\", \"Medicina General\", \"Cardiología\", \"Dermatología\"]\n",
    "distritos = [\"Miraflores\", \"Surco\", \"San Isidro\", \"La Molina\", \"Barranco\"]\n",
    "\n",
    "data = []\n",
    "for i in range(3000):\n",
    "    data.append([\n",
    "        f\"P{i+1:04d}\",\n",
    "        fake.name(),\n",
    "        np.random.randint(1, 90),\n",
    "        random.choice([\"M\", \"F\"]),\n",
    "        random.choice(distritos),\n",
    "        random.choice(servicios),\n",
    "        fake.date_between(start_date=\"-2y\", end_date=\"today\"),\n",
    "        round(np.random.uniform(50, 500), 2)\n",
    "    ])\n",
    "\n",
    "df = pd.DataFrame(data, columns=[\n",
    "    \"id_paciente\", \"nombre\", \"edad\", \"sexo\",\n",
    "    \"distrito\", \"servicio\", \"fecha_atencion\", \"monto\"\n",
    "])\n",
    "\n",
    "# Introducir valores nulos aleatorios\n",
    "for col in [\"sexo\", \"distrito\"]:\n",
    "    df.loc[df.sample(frac=0.02).index, col] = np.nan\n",
    "\n",
    "df.to_csv(\"SaludDigitalB_E1/data/pacientes.csv\", index=False)\n",
    "print(\"Archivo pacientes.csv generado correctamente ✅\")\n"
   ]
  }
 ],
 "metadata": {
  "language_info": {
   "name": "python"
  }
 },
 "nbformat": 4,
 "nbformat_minor": 5
}
