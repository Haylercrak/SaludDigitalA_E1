{
 "cells": [
  {
   "cell_type": "markdown",
   "id": "587dc758",
   "metadata": {},
   "source": [
    "# FASE 5 – Carga en MongoDB\n"
   ]
  },
  {
   "cell_type": "code",
   "execution_count": null,
   "id": "f2c535a9",
   "metadata": {},
   "outputs": [],
   "source": [
    "from pymongo import MongoClient\n",
    "import pandas as pd\n",
    "\n",
    "# Conexión\n",
    "client = MongoClient(\"mongodb://localhost:27017/\")\n",
    "db = client[\"SaludDigital_2025\"]\n",
    "collection = db[\"pacientes\"]\n",
    "\n",
    "# Cargar datos limpios\n",
    "df = pd.read_csv(\"SaludDigitalB_E1/database/pacientes_clean.csv\")\n",
    "collection.insert_many(df.to_dict(\"records\"))\n",
    "\n",
    "print(\"Datos cargados en MongoDB correctamente ✅\")\n"
   ]
  }
 ],
 "metadata": {
  "language_info": {
   "name": "python"
  }
 },
 "nbformat": 4,
 "nbformat_minor": 5
}
