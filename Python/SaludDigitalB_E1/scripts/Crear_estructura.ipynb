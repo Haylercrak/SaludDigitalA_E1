{
 "cells": [
  {
   "cell_type": "markdown",
   "id": "03133c31",
   "metadata": {},
   "source": [
    "# FASE 2 – Creación del Esquema Base"
   ]
  },
  {
   "cell_type": "code",
   "execution_count": null,
   "id": "41e9caf5",
   "metadata": {},
   "outputs": [],
   "source": [
    "import pandas as pd\n",
    "\n",
    "columnas = [\n",
    "    \"id_paciente\", \"nombre\", \"edad\", \"sexo\",\n",
    "    \"distrito\", \"servicio\", \"fecha_atencion\", \"monto\"\n",
    "]\n",
    "\n",
    "df_base = pd.DataFrame(columns=columnas)\n",
    "df_base.to_csv(\"SaludDigitalB_E1/data/base.csv\", index=False)\n",
    "\n",
    "print(\"Archivo base.csv creado correctamente ✅\")\n"
   ]
  }
 ],
 "metadata": {
  "language_info": {
   "name": "python"
  }
 },
 "nbformat": 4,
 "nbformat_minor": 5
}
