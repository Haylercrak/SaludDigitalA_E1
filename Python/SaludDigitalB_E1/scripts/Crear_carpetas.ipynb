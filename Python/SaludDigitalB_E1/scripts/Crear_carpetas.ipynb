{
 "cells": [
  {
   "cell_type": "markdown",
   "id": "ec70ecca",
   "metadata": {},
   "source": [
    "# FASE 1 – Creación de Estructura de Carpetas"
   ]
  },
  {
   "cell_type": "code",
   "execution_count": null,
   "id": "3440f66f",
   "metadata": {},
   "outputs": [],
   "source": [
    "from pathlib import Path\n",
    "\n",
    "# Crear estructura base\n",
    "base_path = Path(\"SaludDigitalB_E1\")\n",
    "\n",
    "folders = [\n",
    "    \"data\", \"database\", \"reports\", \"ci\", \"git\", \"scripts\"\n",
    "]\n",
    "\n",
    "for folder in folders:\n",
    "    (base_path / folder).mkdir(parents=True, exist_ok=True)\n",
    "\n",
    "print(\"Estructura creada correctamente ✅\")\n"
   ]
  }
 ],
 "metadata": {
  "language_info": {
   "name": "python"
  }
 },
 "nbformat": 4,
 "nbformat_minor": 5
}
