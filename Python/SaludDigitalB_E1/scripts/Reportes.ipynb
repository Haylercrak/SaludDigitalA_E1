{
 "cells": [
  {
   "cell_type": "markdown",
   "id": "9e780b8f",
   "metadata": {},
   "source": [
    "# FASE 6 – Visualizaciones"
   ]
  },
  {
   "cell_type": "code",
   "execution_count": null,
   "id": "e1481ec9",
   "metadata": {},
   "outputs": [],
   "source": [
    "import pandas as pd\n",
    "import matplotlib.pyplot as plt\n",
    "\n",
    "df = pd.read_csv(\"SaludDigitalB_E1/database/pacientes_clean.csv\")\n",
    "\n",
    "# Gráfico de barras\n",
    "df[\"servicio\"].value_counts().plot(kind=\"bar\")\n",
    "plt.title(\"Pacientes atendidos por servicio\")\n",
    "plt.savefig(\"SaludDigitalB_E1/reports/pacientes_atendidos_por_servicio.png\")\n",
    "plt.close()\n",
    "\n",
    "# Gráfico circular\n",
    "df[\"sexo\"].value_counts().plot(kind=\"pie\", autopct='%1.1f%%')\n",
    "plt.title(\"Distribución por sexo\")\n",
    "plt.savefig(\"SaludDigitalB_E1/reports/distribucion_por_sexo.png\")\n",
    "plt.close()\n",
    "\n",
    "# Histograma\n",
    "df[\"edad\"].plot(kind=\"hist\", bins=10)\n",
    "plt.title(\"Distribución de edades\")\n",
    "plt.savefig(\"SaludDigitalB_E1/reports/distribucion_de_edades.png\")\n",
    "plt.close()\n",
    "\n",
    "# Promedio de montos por distrito\n",
    "promedio = df.groupby(\"distrito\")[\"monto\"].mean().reset_index()\n",
    "promedio.to_csv(\"SaludDigitalB_E1/reports/promedio_de_montos_por_distrito.csv\", index=False)\n",
    "print(\"Reportes generados correctamente ✅\")\n"
   ]
  }
 ],
 "metadata": {
  "language_info": {
   "name": "python"
  }
 },
 "nbformat": 4,
 "nbformat_minor": 5
}
