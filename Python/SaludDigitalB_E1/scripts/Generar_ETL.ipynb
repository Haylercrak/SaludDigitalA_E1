{
 "cells": [
  {
   "cell_type": "markdown",
   "id": "818d9e6f",
   "metadata": {},
   "source": [
    "# FASE 4 – Proceso ETL (Limpieza de Datos)"
   ]
  },
  {
   "cell_type": "code",
   "execution_count": null,
   "id": "bd728b2d",
   "metadata": {},
   "outputs": [],
   "source": [
    "# Extracción\n",
    "df = pd.read_csv(\"SaludDigitalB_E1/data/pacientes.csv\")\n",
    "\n",
    "# Transformación\n",
    "df.drop_duplicates(inplace=True)\n",
    "df[\"sexo\"].fillna(\"No especifica\", inplace=True)\n",
    "df[\"distrito\"].fillna(\"Sin distrito\", inplace=True)\n",
    "df[\"fecha_atencion\"] = pd.to_datetime(df[\"fecha_atencion\"], errors=\"coerce\")\n",
    "df[\"edad\"] = df[\"edad\"].astype(int)\n",
    "\n",
    "# Carga\n",
    "df.to_csv(\"SaludDigitalB_E1/database/pacientes_clean.csv\", index=False)\n",
    "print(\"Datos limpios y guardados correctamente ✅\")\n"
   ]
  }
 ],
 "metadata": {
  "language_info": {
   "name": "python"
  }
 },
 "nbformat": 4,
 "nbformat_minor": 5
}
